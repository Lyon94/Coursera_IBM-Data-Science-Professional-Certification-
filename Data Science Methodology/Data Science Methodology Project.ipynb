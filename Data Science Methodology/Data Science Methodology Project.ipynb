{
 "cells": [
  {
   "cell_type": "markdown",
   "id": "b75102a2-3730-4d70-b3c9-201f0b83d756",
   "metadata": {},
   "source": [
    "### Business Understanding Step.\n",
    "\n",
    "##### Description of the problem:\n",
    "\n",
    "Due to the ever increasing speed of digitalization and improvement in the living standard. Credit facilities are now available for shoppers to shop online using a credit card. This has led to cyber hackers using peoples' credit card to perform transaction without their knowledge or permission. To address this problem, Machine learning can be used to scan the details of a transaction and classify it as being fraudulent or not in real time, using the data of the past transactions. The transaction will be  stopped immediately and an alarm raised if the transaction is an anomaly or processed smooth if it's not.\n",
    "\n",
    "##### Problem statement:\n",
    "\n",
    "Can a fraudulent transaction carried out with a credit card be identified and stopped in real time?"
   ]
  },
  {
   "cell_type": "markdown",
   "id": "9f636010-99d0-47a9-89c2-d9214921f5ea",
   "metadata": {},
   "source": [
    "### Analytic Approach:  \n",
    "The classification Algorithm of machine learning will be used in checking the real time transaction data details compared to the previous transactions and identify the transaction as being fraudulent or not.\n",
    "\n",
    "###  Data Requirements:\n",
    "The required data is the previous transaction data carried out by the card's user using the credit card.\n",
    "\n",
    "###  Data Collection:\n",
    "The required data is available with the credit card issuer and thus, it is collected from them via appropriate channel.\n",
    "\n",
    "###  Data Understanding and Preparation:\n",
    "The data set for the transaction data is constructed and the data is cleaned, transformed using data cleaning and manipulation libraries and then adequately prepared ready for modeling. Also, missing values are checked and feature engineering  is also applied in solving the problem.\n",
    "\n",
    "###  Modeling and Evaluation:\n",
    "The collected data is divided into 2 groups in the ratio 70%:30%. The larger group set is used as the training data set for building the model while the smaller group is used as the test set for validating the model. The model is continuously evaluated as the modeling and evaluation step is done iteratively.\n",
    "Thereafter, if the model performs well after necessary reviews and refinement, it is then deployed for usage in real time, practical use scenario.\n",
    "The feedback from usage from the different stakeholders involved in the project will be used to assess the model for performance and impact and subsequently, used in refining the model as required.\n"
   ]
  },
  {
   "cell_type": "code",
   "execution_count": null,
   "id": "5d64948a-ff34-4fce-9589-c56d5155013d",
   "metadata": {},
   "outputs": [],
   "source": []
  }
 ],
 "metadata": {
  "kernelspec": {
   "display_name": "Python",
   "language": "python",
   "name": "conda-env-python-py"
  },
  "language_info": {
   "codemirror_mode": {
    "name": "ipython",
    "version": 3
   },
   "file_extension": ".py",
   "mimetype": "text/x-python",
   "name": "python",
   "nbconvert_exporter": "python",
   "pygments_lexer": "ipython3",
   "version": "3.6.13"
  }
 },
 "nbformat": 4,
 "nbformat_minor": 5
}
